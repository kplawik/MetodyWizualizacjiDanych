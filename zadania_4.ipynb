{
 "cells": [
  {
   "cell_type": "code",
   "execution_count": 67,
   "metadata": {},
   "outputs": [],
   "source": [
    "import numpy as np"
   ]
  },
  {
   "cell_type": "markdown",
   "metadata": {},
   "source": [
    "### Zadanie 4.1"
   ]
  },
  {
   "cell_type": "code",
   "execution_count": 68,
   "metadata": {},
   "outputs": [
    {
     "name": "stdout",
     "output_type": "stream",
     "text": [
      "[[ 1  2  3  4]\n",
      " [ 1  4  7 10]\n",
      " [14 10  6  2]\n",
      " [10  8  6  4]]\n"
     ]
    }
   ],
   "source": [
    "dataset2 = np.array([[1,2,3,4],[1,4,7,10],[14,10,6,2],[10,8,6,4]])\n",
    "print(dataset2)"
   ]
  },
  {
   "cell_type": "markdown",
   "metadata": {},
   "source": [
    "### Zadanie 4.2"
   ]
  },
  {
   "cell_type": "code",
   "execution_count": 93,
   "metadata": {},
   "outputs": [
    {
     "data": {
      "text/plain": [
       "array([[ 1.,  2.,  3.,  4.],\n",
       "       [ 1.,  4.,  7., 10.],\n",
       "       [14., 10.,  6.,  2.],\n",
       "       [10.,  8.,  6.,  4.]])"
      ]
     },
     "execution_count": 93,
     "metadata": {},
     "output_type": "execute_result"
    }
   ],
   "source": [
    "dataset2 = np.zeros([4,4])\n",
    "\n",
    "first_col_values = [1, 1, 14, 10]\n",
    "co_eff = [1, 3, -4, -2]\n",
    "\n",
    "for vers_idx in range(0, 4):\n",
    "    for col_idx in range(0,4):\n",
    "        dataset2[vers_idx, col_idx] = int(first_col_values[vers_idx]+(co_eff[vers_idx]*col_idx))\n",
    "dataset2"
   ]
  },
  {
   "cell_type": "code",
   "execution_count": 95,
   "metadata": {},
   "outputs": [
    {
     "data": {
      "text/plain": [
       "array([[ 1.,  2.,  3.,  4.],\n",
       "       [ 1.,  4.,  7., 10.],\n",
       "       [14., 10.,  6.,  2.],\n",
       "       [10.,  8.,  6.,  4.]])"
      ]
     },
     "execution_count": 95,
     "metadata": {},
     "output_type": "execute_result"
    }
   ],
   "source": [
    "dataset2 = np.zeros([4,4])\n",
    "\n",
    "first_col_values = [1, 1, 14, 10]\n",
    "co_eff = [1, 3, -4, -2]\n",
    "\n",
    "for index, values in np.ndenumerate(dataset2):\n",
    "        dataset2[index[0], index[1]] = int(first_col_values[index[0]]+(co_eff[index[0]]*index[1]))\n",
    "dataset2"
   ]
  },
  {
   "cell_type": "markdown",
   "metadata": {},
   "source": [
    "### Zadanie 4.3"
   ]
  },
  {
   "cell_type": "code",
   "execution_count": 96,
   "metadata": {},
   "outputs": [
    {
     "data": {
      "text/plain": [
       "array([[  1.,   2.,   3.,   4.,   5.,   6.,   7.,   8.,   9.,  10.],\n",
       "       [  1.,   4.,   7.,  10.,  13.,  16.,  19.,  22.,  25.,  28.],\n",
       "       [ 14.,  10.,   6.,   2.,  -2.,  -6., -10., -14., -18., -22.],\n",
       "       [ 10.,   8.,   6.,   4.,   2.,   0.,  -2.,  -4.,  -6.,  -8.]])"
      ]
     },
     "execution_count": 96,
     "metadata": {},
     "output_type": "execute_result"
    }
   ],
   "source": [
    "#length = int(input(\"Podaj liczbe kolumn: \"))\n",
    "length = 10\n",
    "dataset2 = np.zeros([4,length])\n",
    "\n",
    "first_col_values = [1, 1, 14, 10]\n",
    "co_eff = [1, 3, -4, -2]\n",
    "\n",
    "for index, values in np.ndenumerate(dataset2):\n",
    "    dataset2[index[0], index[1]] = int(first_col_values[index[0]]+(co_eff[index[0]]*index[1]))\n",
    "dataset2\n"
   ]
  },
  {
   "cell_type": "markdown",
   "metadata": {},
   "source": [
    "### Zadanie 4.4"
   ]
  },
  {
   "cell_type": "code",
   "execution_count": 76,
   "metadata": {},
   "outputs": [
    {
     "name": "stdout",
     "output_type": "stream",
     "text": [
      "1.0\n",
      "2.0\n",
      "3.0\n",
      "4.0\n",
      "5.0\n",
      "6.0\n",
      "7.0\n",
      "8.0\n",
      "9.0\n",
      "10.0\n",
      "1.0\n",
      "4.0\n",
      "7.0\n",
      "10.0\n",
      "13.0\n",
      "16.0\n",
      "19.0\n",
      "22.0\n",
      "25.0\n",
      "28.0\n",
      "14.0\n",
      "10.0\n",
      "6.0\n",
      "2.0\n",
      "-2.0\n",
      "-6.0\n",
      "-10.0\n",
      "-14.0\n",
      "-18.0\n",
      "-22.0\n",
      "10.0\n",
      "8.0\n",
      "6.0\n",
      "4.0\n",
      "2.0\n",
      "0.0\n",
      "-2.0\n",
      "-4.0\n",
      "-6.0\n",
      "-8.0\n"
     ]
    }
   ],
   "source": [
    "for i in np.nditer(dataset2):\n",
    "    print(i)"
   ]
  },
  {
   "cell_type": "code",
   "execution_count": null,
   "metadata": {},
   "outputs": [],
   "source": []
  }
 ],
 "metadata": {
  "kernelspec": {
   "display_name": "visualization",
   "language": "python",
   "name": "python3"
  },
  "language_info": {
   "codemirror_mode": {
    "name": "ipython",
    "version": 3
   },
   "file_extension": ".py",
   "mimetype": "text/x-python",
   "name": "python",
   "nbconvert_exporter": "python",
   "pygments_lexer": "ipython3",
   "version": "3.11.5"
  }
 },
 "nbformat": 4,
 "nbformat_minor": 2
}
