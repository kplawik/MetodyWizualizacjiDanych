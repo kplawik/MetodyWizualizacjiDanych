{
 "cells": [
  {
   "cell_type": "code",
   "execution_count": 507,
   "metadata": {},
   "outputs": [],
   "source": [
    "import numpy as np\n",
    "from scipy import stats"
   ]
  },
  {
   "cell_type": "markdown",
   "metadata": {},
   "source": [
    "### Zadanie 4.1"
   ]
  },
  {
   "cell_type": "code",
   "execution_count": 508,
   "metadata": {},
   "outputs": [
    {
     "name": "stdout",
     "output_type": "stream",
     "text": [
      "[[ 1  2  3  4]\n",
      " [ 1  4  7 10]\n",
      " [14 10  6  2]\n",
      " [10  8  6  4]]\n"
     ]
    }
   ],
   "source": [
    "dataset2 = np.array([[1,2,3,4],[1,4,7,10],[14,10,6,2],[10,8,6,4]])\n",
    "print(dataset2)"
   ]
  },
  {
   "cell_type": "markdown",
   "metadata": {},
   "source": [
    "### Zadanie 4.2"
   ]
  },
  {
   "cell_type": "code",
   "execution_count": 509,
   "metadata": {},
   "outputs": [
    {
     "data": {
      "text/plain": [
       "array([[ 1.,  2.,  3.,  4.],\n",
       "       [ 1.,  4.,  7., 10.],\n",
       "       [14., 10.,  6.,  2.],\n",
       "       [10.,  8.,  6.,  4.]])"
      ]
     },
     "execution_count": 509,
     "metadata": {},
     "output_type": "execute_result"
    }
   ],
   "source": [
    "dataset2 = np.zeros([4,4])\n",
    "\n",
    "first_col_values = [1, 1, 14, 10]\n",
    "co_eff = [1, 3, -4, -2]\n",
    "\n",
    "for vers_idx in range(0, 4):\n",
    "    for col_idx in range(0,4):\n",
    "        dataset2[vers_idx, col_idx] = int(first_col_values[vers_idx]+(co_eff[vers_idx]*col_idx))\n",
    "dataset2"
   ]
  },
  {
   "cell_type": "code",
   "execution_count": 510,
   "metadata": {},
   "outputs": [
    {
     "data": {
      "text/plain": [
       "array([[ 1.,  2.,  3.,  4.],\n",
       "       [ 1.,  4.,  7., 10.],\n",
       "       [14., 10.,  6.,  2.],\n",
       "       [10.,  8.,  6.,  4.]])"
      ]
     },
     "execution_count": 510,
     "metadata": {},
     "output_type": "execute_result"
    }
   ],
   "source": [
    "dataset2 = np.zeros([4,4])\n",
    "\n",
    "first_col_values = [1, 1, 14, 10]\n",
    "co_eff = [1, 3, -4, -2]\n",
    "\n",
    "for index, values in np.ndenumerate(dataset2):\n",
    "        dataset2[index[0], index[1]] = int(first_col_values[index[0]]+(co_eff[index[0]]*index[1]))\n",
    "dataset2"
   ]
  },
  {
   "cell_type": "markdown",
   "metadata": {},
   "source": [
    "### Zadanie 4.3"
   ]
  },
  {
   "cell_type": "code",
   "execution_count": 511,
   "metadata": {},
   "outputs": [
    {
     "data": {
      "text/plain": [
       "array([[  1.,   2.,   3.,   4.,   5.,   6.,   7.,   8.,   9.,  10.],\n",
       "       [  1.,   4.,   7.,  10.,  13.,  16.,  19.,  22.,  25.,  28.],\n",
       "       [ 14.,  10.,   6.,   2.,  -2.,  -6., -10., -14., -18., -22.],\n",
       "       [ 10.,   8.,   6.,   4.,   2.,   0.,  -2.,  -4.,  -6.,  -8.]])"
      ]
     },
     "execution_count": 511,
     "metadata": {},
     "output_type": "execute_result"
    }
   ],
   "source": [
    "#length = int(input(\"Podaj liczbe kolumn: \"))\n",
    "length = 10\n",
    "dataset2 = np.zeros([4,length])\n",
    "\n",
    "first_col_values = [1, 1, 14, 10]\n",
    "co_eff = [1, 3, -4, -2]\n",
    "\n",
    "for index, values in np.ndenumerate(dataset2):\n",
    "    dataset2[index[0], index[1]] = int(first_col_values[index[0]]+(co_eff[index[0]]*index[1]))\n",
    "dataset2\n"
   ]
  },
  {
   "cell_type": "markdown",
   "metadata": {},
   "source": [
    "### Zadanie 4.4"
   ]
  },
  {
   "cell_type": "code",
   "execution_count": 512,
   "metadata": {},
   "outputs": [
    {
     "name": "stdout",
     "output_type": "stream",
     "text": [
      "1.0\n",
      "2.0\n",
      "3.0\n",
      "4.0\n",
      "5.0\n",
      "6.0\n",
      "7.0\n",
      "8.0\n",
      "9.0\n",
      "10.0\n",
      "1.0\n",
      "4.0\n",
      "7.0\n",
      "10.0\n",
      "13.0\n",
      "16.0\n",
      "19.0\n",
      "22.0\n",
      "25.0\n",
      "28.0\n",
      "14.0\n",
      "10.0\n",
      "6.0\n",
      "2.0\n",
      "-2.0\n",
      "-6.0\n",
      "-10.0\n",
      "-14.0\n",
      "-18.0\n",
      "-22.0\n",
      "10.0\n",
      "8.0\n",
      "6.0\n",
      "4.0\n",
      "2.0\n",
      "0.0\n",
      "-2.0\n",
      "-4.0\n",
      "-6.0\n",
      "-8.0\n"
     ]
    }
   ],
   "source": [
    "for i in np.nditer(dataset2):\n",
    "    print(i)"
   ]
  },
  {
   "cell_type": "markdown",
   "metadata": {},
   "source": [
    "### Zadanie 4.5"
   ]
  },
  {
   "cell_type": "code",
   "execution_count": 513,
   "metadata": {},
   "outputs": [
    {
     "data": {
      "text/plain": [
       "50.0"
      ]
     },
     "execution_count": 513,
     "metadata": {},
     "output_type": "execute_result"
    }
   ],
   "source": [
    "np.mean(dataset2)\n",
    "np.median(dataset2)\n",
    "stats.mode(dataset2)\n",
    "np.var(dataset2)\n",
    "np.std(dataset2)\n",
    "np.max(dataset2) - np.min(dataset2)\n",
    "\n"
   ]
  },
  {
   "cell_type": "markdown",
   "metadata": {},
   "source": [
    "### Zadanie 4.6"
   ]
  },
  {
   "cell_type": "code",
   "execution_count": 514,
   "metadata": {},
   "outputs": [
    {
     "data": {
      "text/plain": [
       "array([ 5.5, 14.5, -4. ,  1. ])"
      ]
     },
     "execution_count": 514,
     "metadata": {},
     "output_type": "execute_result"
    }
   ],
   "source": [
    "np.mean(dataset2, axis=0)\n",
    "np.median(dataset2, axis=0)\n",
    "np.median(dataset2, axis=1)\n"
   ]
  },
  {
   "cell_type": "markdown",
   "metadata": {},
   "source": [
    "### Zadanie 4.7"
   ]
  },
  {
   "cell_type": "code",
   "execution_count": 515,
   "metadata": {},
   "outputs": [
    {
     "data": {
      "text/plain": [
       "array([[ 1,  2,  3,  4],\n",
       "       [ 1,  4,  7, 10],\n",
       "       [14, 10,  6,  2],\n",
       "       [10,  8,  6,  4]])"
      ]
     },
     "execution_count": 515,
     "metadata": {},
     "output_type": "execute_result"
    }
   ],
   "source": [
    "dataset1 = np.array([[1,2,3,4], [1,4,7,10], [14,10,6,2], [10,8,6,4]])\n",
    "dataset1"
   ]
  },
  {
   "cell_type": "code",
   "execution_count": 516,
   "metadata": {},
   "outputs": [
    {
     "data": {
      "text/plain": [
       "array([[ 2,  3],\n",
       "       [ 4,  7],\n",
       "       [10,  6],\n",
       "       [ 8,  6]])"
      ]
     },
     "execution_count": 516,
     "metadata": {},
     "output_type": "execute_result"
    }
   ],
   "source": [
    "dataset1[0]\n",
    "dataset1[:, 0]\n",
    "# dataset1[0:2]\n",
    "# dataset1[:2, :2]\n",
    "# dataset1[:, 0:4:2]\n",
    "# dataset1[:, ::2]\n",
    "# dataset1[-1]\n",
    "# dataset1[-1, 1]\n",
    "# dataset1[-1, 1:]\n",
    "# dataset1[-1, :1]\n",
    "# dataset1[-1, :-1]\n",
    "# dataset1[-1, ::-1] \n",
    "# dataset1[::-1]\n",
    "# dataset1[::-1, ::-1] \n",
    "# dataset1[::-1, -1] \n",
    "dataset1[:, -3:-1]"
   ]
  },
  {
   "cell_type": "markdown",
   "metadata": {},
   "source": [
    "### Zadanie 4.8"
   ]
  },
  {
   "cell_type": "code",
   "execution_count": 517,
   "metadata": {},
   "outputs": [
    {
     "data": {
      "text/plain": [
       "array([[  1.,   2.,   3.,   4.,   5.,   6.,   7.,   8.,   9.,  10.],\n",
       "       [  1.,   4.,   7.,  10.,  13.,  16.,  19.,  22.,  25.,  28.],\n",
       "       [ 14.,  10.,   6.,   2.,  -2.,  -6., -10., -14., -18., -22.],\n",
       "       [ 10.,   8.,   6.,   4.,   2.,   0.,  -2.,  -4.,  -6.,  -8.]])"
      ]
     },
     "execution_count": 517,
     "metadata": {},
     "output_type": "execute_result"
    }
   ],
   "source": [
    "dataset2"
   ]
  },
  {
   "cell_type": "code",
   "execution_count": 518,
   "metadata": {},
   "outputs": [
    {
     "data": {
      "text/plain": [
       "10.0"
      ]
     },
     "execution_count": 518,
     "metadata": {},
     "output_type": "execute_result"
    }
   ],
   "source": [
    "dataset2[:, -1:-3:-1]\n",
    "dataset2[-1,-1]\n",
    "dataset2[1::2]\n",
    "dataset2[0:2, 0:3]\n",
    "dataset2[:, -2:-3:-1]\n",
    "dataset2[0, -1]"
   ]
  },
  {
   "cell_type": "markdown",
   "metadata": {},
   "source": [
    "### Zadanie 4.9"
   ]
  },
  {
   "cell_type": "code",
   "execution_count": 520,
   "metadata": {},
   "outputs": [
    {
     "data": {
      "text/plain": [
       "[13.0, 8.0, 4.0, 8.0, 15.0, 22.0, 29.0, 36.0, 43.0, 50.0]"
      ]
     },
     "execution_count": 520,
     "metadata": {},
     "output_type": "execute_result"
    }
   ],
   "source": [
    "np.mean(dataset2[-1])\n",
    "np.median(dataset2[0:2, 0:2])\n",
    "\n",
    "h_ranges = []\n",
    "for i in range(0, 4):\n",
    "    h_ranges.append(np.max(dataset2[i]) - np.min(dataset2[i]))\n",
    "h_ranges\n",
    "#np.max(dataset2[0]) - np.min(dataset2[0])\n",
    "\n",
    "v_ranges = []\n",
    "for i in range(0, length):\n",
    "    v_ranges.append(np.max(dataset2[:,i]) - np.min(dataset2[:,i]))\n",
    "v_ranges"
   ]
  },
  {
   "cell_type": "markdown",
   "metadata": {},
   "source": [
    "### Zadanie 4.10"
   ]
  },
  {
   "cell_type": "code",
   "execution_count": 534,
   "metadata": {},
   "outputs": [
    {
     "data": {
      "text/plain": [
       "array([ 3., 13., 16., 19., 22., 25., 28., 14.])"
      ]
     },
     "execution_count": 534,
     "metadata": {},
     "output_type": "execute_result"
    }
   ],
   "source": [
    "dataset2[(dataset2>=3) & (dataset2<6)]\n",
    "dataset2[dataset2 < 10]\n",
    "dataset2[((dataset2>2) & (dataset2<4)) | (dataset2 > 10)]"
   ]
  },
  {
   "cell_type": "markdown",
   "metadata": {},
   "source": [
    "### Zadanie 4.11"
   ]
  },
  {
   "cell_type": "code",
   "execution_count": 535,
   "metadata": {},
   "outputs": [],
   "source": [
    "types3 = [('n1', int), ('n2', int), ('n3', int),\n",
    "          ('n4', int), ('n5', int)]\n",
    "values3 = [(1,12,7,14,5), (6,17,3,19,10), (11,12,8,4,1)]\n",
    "dataset3 = np.array(values3, dtype=types3)\n",
    "dataset3.dtype = types3\n"
   ]
  },
  {
   "cell_type": "code",
   "execution_count": 547,
   "metadata": {},
   "outputs": [
    {
     "name": "stdout",
     "output_type": "stream",
     "text": [
      "[(11, 12, 8,  4,  1) ( 1, 12, 7, 14,  5) ( 6, 17, 3, 19, 10)]\n"
     ]
    }
   ],
   "source": [
    "np.sort(dataset3)\n",
    "np.sort(dataset3, axis=0)\n",
    "np.sort(dataset3, order='n1', axis=None)[::-1]\n",
    "np.sort(dataset3, order='n2')\n",
    "np.sort(dataset3, order=['n2', 'n4'])\n",
    "print(np.sort(dataset3, order=['n2', 'n4']))"
   ]
  },
  {
   "cell_type": "markdown",
   "metadata": {},
   "source": [
    "### Zadanie 4.12"
   ]
  },
  {
   "cell_type": "code",
   "execution_count": 551,
   "metadata": {},
   "outputs": [
    {
     "name": "stdout",
     "output_type": "stream",
     "text": [
      "[( 7, -2, -9,  1,  -6) ( 6, -8,  0, -6,   8) ( 9,  1, -4,  3,  -2)\n",
      " (-9,  5,  7, -8, -10) (-5, -1,  2,  5,  -3) ( 6, -6,  3,  2,  -4)\n",
      " ( 5,  0,  1,  8,  -7) (-2,  0,  1, -7,  -3) ( 4,  6, -3,  1,   5)\n",
      " (-9, -7, -6, -3,  -3)]\n"
     ]
    }
   ],
   "source": [
    "#n_verses = int(input(\"Podaj liczbę wierszy: \"))\n",
    "n_verses = 10\n",
    "types3 = [('n1', int), ('n2', int), ('n3', int),\n",
    "          ('n4', int), ('n5', int)]\n",
    "dataset3 = np.random.randint(-10, 10, size=(5*n_verses))\n",
    "dataset3.dtype = types3\n",
    "print(dataset3)"
   ]
  },
  {
   "cell_type": "markdown",
   "metadata": {},
   "source": [
    "### Zadanie 4.13"
   ]
  },
  {
   "cell_type": "code",
   "execution_count": 564,
   "metadata": {},
   "outputs": [
    {
     "data": {
      "text/plain": [
       "('GP', 'M', 22, 'U', 'GT3', 'T', 3, 1, 'services', 'services', 'other', 'mother', 1, 1, 3, 'no', 'no', 'no', 'no', 'no', 'no', 'yes', 'yes', 5, 4, 5, 5, 5, 1, 16, 6, 8, 8)"
      ]
     },
     "execution_count": 564,
     "metadata": {},
     "output_type": "execute_result"
    }
   ],
   "source": [
    "dataset4 = np.genfromtxt('student-mat.csv', dtype=None, delimiter=',',\n",
    "    names=True, encoding=None)\n",
    "\n",
    "np.mean(dataset4['age'])\n",
    "np.median(dataset4['age'][0:3])\n",
    "np.sort(dataset4, order=['age'])[-1]"
   ]
  },
  {
   "cell_type": "code",
   "execution_count": null,
   "metadata": {},
   "outputs": [],
   "source": []
  }
 ],
 "metadata": {
  "kernelspec": {
   "display_name": "visualization",
   "language": "python",
   "name": "python3"
  },
  "language_info": {
   "codemirror_mode": {
    "name": "ipython",
    "version": 3
   },
   "file_extension": ".py",
   "mimetype": "text/x-python",
   "name": "python",
   "nbconvert_exporter": "python",
   "pygments_lexer": "ipython3",
   "version": "3.11.5"
  }
 },
 "nbformat": 4,
 "nbformat_minor": 2
}
