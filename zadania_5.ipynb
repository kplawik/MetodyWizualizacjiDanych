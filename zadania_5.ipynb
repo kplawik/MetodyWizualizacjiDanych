{
 "cells": [
  {
   "cell_type": "code",
   "execution_count": 3,
   "metadata": {},
   "outputs": [],
   "source": [
    "import pandas as pd\n",
    "import numpy as np"
   ]
  },
  {
   "cell_type": "markdown",
   "metadata": {},
   "source": [
    "### Zadanie 5.1"
   ]
  },
  {
   "cell_type": "code",
   "execution_count": 12,
   "metadata": {},
   "outputs": [
    {
     "name": "stdout",
     "output_type": "stream",
     "text": [
      "      1c    2c    3c\n",
      "1r  None  None  None\n",
      "2r  None  None  None\n",
      "3r  None  None  None\n",
      "4r  None  None  None\n",
      "5r  None  None  None\n",
      "6r  None  None  None\n",
      "7r  None  None  None\n",
      "   1c  2c  3c\n",
      "1r  1   8   1\n",
      "2r  2   9   9\n",
      "3r  3  10   3\n",
      "4r  4  11  11\n",
      "5r  5  12   5\n",
      "6r  6  13  13\n",
      "7r  7  14   7\n"
     ]
    },
    {
     "name": "stderr",
     "output_type": "stream",
     "text": [
      "/var/folders/07/ww1l5ht56ps_qjvqynpygtbh0000gn/T/ipykernel_54847/752552153.py:11: FutureWarning: Series.__setitem__ treating keys as positions is deprecated. In a future version, integer keys will always be treated as labels (consistent with DataFrame behavior). To set a value by position, use `ser.iloc[pos] = value`\n",
      "  value[0] = i\n",
      "/var/folders/07/ww1l5ht56ps_qjvqynpygtbh0000gn/T/ipykernel_54847/752552153.py:12: FutureWarning: Series.__setitem__ treating keys as positions is deprecated. In a future version, integer keys will always be treated as labels (consistent with DataFrame behavior). To set a value by position, use `ser.iloc[pos] = value`\n",
      "  value[1] = i + 7\n",
      "/var/folders/07/ww1l5ht56ps_qjvqynpygtbh0000gn/T/ipykernel_54847/752552153.py:13: FutureWarning: Series.__getitem__ treating keys as positions is deprecated. In a future version, integer keys will always be treated as labels (consistent with DataFrame behavior). To access a value by position, use `ser.iloc[pos]`\n",
      "  if value[0] % 2:\n",
      "/var/folders/07/ww1l5ht56ps_qjvqynpygtbh0000gn/T/ipykernel_54847/752552153.py:14: FutureWarning: Series.__getitem__ treating keys as positions is deprecated. In a future version, integer keys will always be treated as labels (consistent with DataFrame behavior). To access a value by position, use `ser.iloc[pos]`\n",
      "  value[2] = value[0]\n",
      "/var/folders/07/ww1l5ht56ps_qjvqynpygtbh0000gn/T/ipykernel_54847/752552153.py:14: FutureWarning: Series.__setitem__ treating keys as positions is deprecated. In a future version, integer keys will always be treated as labels (consistent with DataFrame behavior). To set a value by position, use `ser.iloc[pos] = value`\n",
      "  value[2] = value[0]\n",
      "/var/folders/07/ww1l5ht56ps_qjvqynpygtbh0000gn/T/ipykernel_54847/752552153.py:16: FutureWarning: Series.__getitem__ treating keys as positions is deprecated. In a future version, integer keys will always be treated as labels (consistent with DataFrame behavior). To access a value by position, use `ser.iloc[pos]`\n",
      "  value[2] = value[1]\n",
      "/var/folders/07/ww1l5ht56ps_qjvqynpygtbh0000gn/T/ipykernel_54847/752552153.py:16: FutureWarning: Series.__setitem__ treating keys as positions is deprecated. In a future version, integer keys will always be treated as labels (consistent with DataFrame behavior). To set a value by position, use `ser.iloc[pos] = value`\n",
      "  value[2] = value[1]\n"
     ]
    }
   ],
   "source": [
    "dataset1 = pd.DataFrame(np.array([[None,None,None], [None,None,None], [None,None,None],\n",
    "            [None,None,None], [None,None,None],\n",
    "            [None,None,None], [None,None,None]]),\n",
    "    index=['1r', '2r', '3r', '4r',\n",
    "            '5r', '6r', '7r'],\n",
    "    columns=['1c', '2c', '3c'])\n",
    "print(dataset1)\n",
    "\n",
    "i = 1\n",
    "for row, value in dataset1.iterrows():\n",
    "    value[0] = i\n",
    "    value[1] = i + 7\n",
    "    if value[0] % 2:\n",
    "        value[2] = value[0]\n",
    "    else:\n",
    "        value[2] = value[1]\n",
    "\n",
    "    i = i + 1\n",
    "\n",
    "print(dataset1)"
   ]
  },
  {
   "cell_type": "code",
   "execution_count": 21,
   "metadata": {},
   "outputs": [
    {
     "data": {
      "text/plain": [
       "1c     6\n",
       "2c     6\n",
       "3c    12\n",
       "dtype: object"
      ]
     },
     "execution_count": 21,
     "metadata": {},
     "output_type": "execute_result"
    }
   ],
   "source": [
    "dataset1.mean()\n",
    "dataset1.median()\n",
    "dataset1.mode()\n",
    "dataset1.var()\n",
    "dataset1.std()\n",
    "dataset1.max() - dataset1.min()"
   ]
  },
  {
   "cell_type": "markdown",
   "metadata": {},
   "source": []
  }
 ],
 "metadata": {
  "kernelspec": {
   "display_name": "visualization",
   "language": "python",
   "name": "python3"
  },
  "language_info": {
   "codemirror_mode": {
    "name": "ipython",
    "version": 3
   },
   "file_extension": ".py",
   "mimetype": "text/x-python",
   "name": "python",
   "nbconvert_exporter": "python",
   "pygments_lexer": "ipython3",
   "version": "3.9.18"
  }
 },
 "nbformat": 4,
 "nbformat_minor": 2
}
